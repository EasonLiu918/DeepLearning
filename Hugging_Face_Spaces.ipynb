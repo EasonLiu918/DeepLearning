{
  "nbformat": 4,
  "nbformat_minor": 0,
  "metadata": {
    "colab": {
      "provenance": [],
      "toc_visible": true
    },
    "kernelspec": {
      "name": "python3",
      "display_name": "Python 3"
    },
    "language_info": {
      "name": "python"
    }
  },
  "cells": [
    {
      "cell_type": "markdown",
      "source": [
        "#Install Streamlit"
      ],
      "metadata": {
        "id": "RHMMkT4WKSd4"
      }
    },
    {
      "cell_type": "code",
      "execution_count": null,
      "metadata": {
        "id": "1qy5Jp9-Jysl",
        "colab": {
          "base_uri": "https://localhost:8080/"
        },
        "outputId": "27863704-827e-4d24-dc2f-ae48e54fb8ed"
      },
      "outputs": [
        {
          "output_type": "stream",
          "name": "stdout",
          "text": [
            "Collecting streamlit\n",
            "  Downloading streamlit-1.44.0-py3-none-any.whl.metadata (8.9 kB)\n",
            "Requirement already satisfied: altair<6,>=4.0 in /usr/local/lib/python3.11/dist-packages (from streamlit) (5.5.0)\n",
            "Requirement already satisfied: blinker<2,>=1.0.0 in /usr/local/lib/python3.11/dist-packages (from streamlit) (1.9.0)\n",
            "Requirement already satisfied: cachetools<6,>=4.0 in /usr/local/lib/python3.11/dist-packages (from streamlit) (5.5.2)\n",
            "Requirement already satisfied: click<9,>=7.0 in /usr/local/lib/python3.11/dist-packages (from streamlit) (8.1.8)\n",
            "Requirement already satisfied: numpy<3,>=1.23 in /usr/local/lib/python3.11/dist-packages (from streamlit) (2.0.2)\n",
            "Requirement already satisfied: packaging<25,>=20 in /usr/local/lib/python3.11/dist-packages (from streamlit) (24.2)\n",
            "Requirement already satisfied: pandas<3,>=1.4.0 in /usr/local/lib/python3.11/dist-packages (from streamlit) (2.2.2)\n",
            "Requirement already satisfied: pillow<12,>=7.1.0 in /usr/local/lib/python3.11/dist-packages (from streamlit) (11.1.0)\n",
            "Requirement already satisfied: protobuf<6,>=3.20 in /usr/local/lib/python3.11/dist-packages (from streamlit) (5.29.4)\n",
            "Requirement already satisfied: pyarrow>=7.0 in /usr/local/lib/python3.11/dist-packages (from streamlit) (18.1.0)\n",
            "Requirement already satisfied: requests<3,>=2.27 in /usr/local/lib/python3.11/dist-packages (from streamlit) (2.32.3)\n",
            "Requirement already satisfied: tenacity<10,>=8.1.0 in /usr/local/lib/python3.11/dist-packages (from streamlit) (9.0.0)\n",
            "Requirement already satisfied: toml<2,>=0.10.1 in /usr/local/lib/python3.11/dist-packages (from streamlit) (0.10.2)\n",
            "Requirement already satisfied: typing-extensions<5,>=4.4.0 in /usr/local/lib/python3.11/dist-packages (from streamlit) (4.13.0)\n",
            "Collecting watchdog<7,>=2.1.5 (from streamlit)\n",
            "  Downloading watchdog-6.0.0-py3-none-manylinux2014_x86_64.whl.metadata (44 kB)\n",
            "\u001b[2K     \u001b[90m━━━━━━━━━━━━━━━━━━━━━━━━━━━━━━━━━━━━━━━━\u001b[0m \u001b[32m44.3/44.3 kB\u001b[0m \u001b[31m1.3 MB/s\u001b[0m eta \u001b[36m0:00:00\u001b[0m\n",
            "\u001b[?25hRequirement already satisfied: gitpython!=3.1.19,<4,>=3.0.7 in /usr/local/lib/python3.11/dist-packages (from streamlit) (3.1.44)\n",
            "Collecting pydeck<1,>=0.8.0b4 (from streamlit)\n",
            "  Downloading pydeck-0.9.1-py2.py3-none-any.whl.metadata (4.1 kB)\n",
            "Requirement already satisfied: tornado<7,>=6.0.3 in /usr/local/lib/python3.11/dist-packages (from streamlit) (6.4.2)\n",
            "Requirement already satisfied: jinja2 in /usr/local/lib/python3.11/dist-packages (from altair<6,>=4.0->streamlit) (3.1.6)\n",
            "Requirement already satisfied: jsonschema>=3.0 in /usr/local/lib/python3.11/dist-packages (from altair<6,>=4.0->streamlit) (4.23.0)\n",
            "Requirement already satisfied: narwhals>=1.14.2 in /usr/local/lib/python3.11/dist-packages (from altair<6,>=4.0->streamlit) (1.32.0)\n",
            "Requirement already satisfied: gitdb<5,>=4.0.1 in /usr/local/lib/python3.11/dist-packages (from gitpython!=3.1.19,<4,>=3.0.7->streamlit) (4.0.12)\n",
            "Requirement already satisfied: python-dateutil>=2.8.2 in /usr/local/lib/python3.11/dist-packages (from pandas<3,>=1.4.0->streamlit) (2.8.2)\n",
            "Requirement already satisfied: pytz>=2020.1 in /usr/local/lib/python3.11/dist-packages (from pandas<3,>=1.4.0->streamlit) (2025.2)\n",
            "Requirement already satisfied: tzdata>=2022.7 in /usr/local/lib/python3.11/dist-packages (from pandas<3,>=1.4.0->streamlit) (2025.2)\n",
            "Requirement already satisfied: charset-normalizer<4,>=2 in /usr/local/lib/python3.11/dist-packages (from requests<3,>=2.27->streamlit) (3.4.1)\n",
            "Requirement already satisfied: idna<4,>=2.5 in /usr/local/lib/python3.11/dist-packages (from requests<3,>=2.27->streamlit) (3.10)\n",
            "Requirement already satisfied: urllib3<3,>=1.21.1 in /usr/local/lib/python3.11/dist-packages (from requests<3,>=2.27->streamlit) (2.3.0)\n",
            "Requirement already satisfied: certifi>=2017.4.17 in /usr/local/lib/python3.11/dist-packages (from requests<3,>=2.27->streamlit) (2025.1.31)\n",
            "Requirement already satisfied: smmap<6,>=3.0.1 in /usr/local/lib/python3.11/dist-packages (from gitdb<5,>=4.0.1->gitpython!=3.1.19,<4,>=3.0.7->streamlit) (5.0.2)\n",
            "Requirement already satisfied: MarkupSafe>=2.0 in /usr/local/lib/python3.11/dist-packages (from jinja2->altair<6,>=4.0->streamlit) (3.0.2)\n",
            "Requirement already satisfied: attrs>=22.2.0 in /usr/local/lib/python3.11/dist-packages (from jsonschema>=3.0->altair<6,>=4.0->streamlit) (25.3.0)\n",
            "Requirement already satisfied: jsonschema-specifications>=2023.03.6 in /usr/local/lib/python3.11/dist-packages (from jsonschema>=3.0->altair<6,>=4.0->streamlit) (2024.10.1)\n",
            "Requirement already satisfied: referencing>=0.28.4 in /usr/local/lib/python3.11/dist-packages (from jsonschema>=3.0->altair<6,>=4.0->streamlit) (0.36.2)\n",
            "Requirement already satisfied: rpds-py>=0.7.1 in /usr/local/lib/python3.11/dist-packages (from jsonschema>=3.0->altair<6,>=4.0->streamlit) (0.24.0)\n",
            "Requirement already satisfied: six>=1.5 in /usr/local/lib/python3.11/dist-packages (from python-dateutil>=2.8.2->pandas<3,>=1.4.0->streamlit) (1.17.0)\n",
            "Downloading streamlit-1.44.0-py3-none-any.whl (9.8 MB)\n",
            "\u001b[2K   \u001b[90m━━━━━━━━━━━━━━━━━━━━━━━━━━━━━━━━━━━━━━━━\u001b[0m \u001b[32m9.8/9.8 MB\u001b[0m \u001b[31m26.3 MB/s\u001b[0m eta \u001b[36m0:00:00\u001b[0m\n",
            "\u001b[?25hDownloading pydeck-0.9.1-py2.py3-none-any.whl (6.9 MB)\n",
            "\u001b[2K   \u001b[90m━━━━━━━━━━━━━━━━━━━━━━━━━━━━━━━━━━━━━━━━\u001b[0m \u001b[32m6.9/6.9 MB\u001b[0m \u001b[31m55.0 MB/s\u001b[0m eta \u001b[36m0:00:00\u001b[0m\n",
            "\u001b[?25hDownloading watchdog-6.0.0-py3-none-manylinux2014_x86_64.whl (79 kB)\n",
            "\u001b[2K   \u001b[90m━━━━━━━━━━━━━━━━━━━━━━━━━━━━━━━━━━━━━━━━\u001b[0m \u001b[32m79.1/79.1 kB\u001b[0m \u001b[31m4.1 MB/s\u001b[0m eta \u001b[36m0:00:00\u001b[0m\n",
            "\u001b[?25hInstalling collected packages: watchdog, pydeck, streamlit\n",
            "Successfully installed pydeck-0.9.1 streamlit-1.44.0 watchdog-6.0.0\n"
          ]
        }
      ],
      "source": [
        "pip install streamlit"
      ]
    },
    {
      "cell_type": "markdown",
      "source": [
        "#Install gTTS"
      ],
      "metadata": {
        "id": "fMOqnntnN71j"
      }
    },
    {
      "cell_type": "code",
      "source": [
        "!pip install gtts"
      ],
      "metadata": {
        "colab": {
          "base_uri": "https://localhost:8080/"
        },
        "id": "n3jxXn9kOCFr",
        "outputId": "2afbf8a3-a174-40c3-b708-9278f5814a07"
      },
      "execution_count": null,
      "outputs": [
        {
          "output_type": "stream",
          "name": "stdout",
          "text": [
            "Collecting gtts\n",
            "  Downloading gTTS-2.5.4-py3-none-any.whl.metadata (4.1 kB)\n",
            "Requirement already satisfied: requests<3,>=2.27 in /usr/local/lib/python3.11/dist-packages (from gtts) (2.32.3)\n",
            "Requirement already satisfied: click<8.2,>=7.1 in /usr/local/lib/python3.11/dist-packages (from gtts) (8.1.8)\n",
            "Requirement already satisfied: charset-normalizer<4,>=2 in /usr/local/lib/python3.11/dist-packages (from requests<3,>=2.27->gtts) (3.4.1)\n",
            "Requirement already satisfied: idna<4,>=2.5 in /usr/local/lib/python3.11/dist-packages (from requests<3,>=2.27->gtts) (3.10)\n",
            "Requirement already satisfied: urllib3<3,>=1.21.1 in /usr/local/lib/python3.11/dist-packages (from requests<3,>=2.27->gtts) (2.3.0)\n",
            "Requirement already satisfied: certifi>=2017.4.17 in /usr/local/lib/python3.11/dist-packages (from requests<3,>=2.27->gtts) (2025.1.31)\n",
            "Downloading gTTS-2.5.4-py3-none-any.whl (29 kB)\n",
            "Installing collected packages: gtts\n",
            "Successfully installed gtts-2.5.4\n"
          ]
        }
      ]
    },
    {
      "cell_type": "code",
      "source": [
        "import gtts\n",
        "print(\"✅ gTTS Successfully installed!\")"
      ],
      "metadata": {
        "colab": {
          "base_uri": "https://localhost:8080/"
        },
        "id": "sRckA_c0OGPS",
        "outputId": "634c8e8a-9a89-486c-d059-db6d16f4e83e"
      },
      "execution_count": null,
      "outputs": [
        {
          "output_type": "stream",
          "name": "stdout",
          "text": [
            "✅ gTTS Successfully installed!\n"
          ]
        }
      ]
    },
    {
      "cell_type": "markdown",
      "source": [
        "#app.py"
      ],
      "metadata": {
        "id": "7Ia_jbNFKaGW"
      }
    },
    {
      "cell_type": "code",
      "source": [
        "import streamlit as st\n",
        "from PIL import Image\n",
        "from transformers import pipeline\n",
        "from gtts import gTTS\n",
        "import os\n",
        "os.system(\"pip install transformers==4.36.2\")\n",
        "\n",
        "def main():\n",
        "    st.set_page_config(page_title=\"AI Storyteller\", page_icon=\"📖\")\n",
        "\n",
        "    # Beautify | UI 美化\n",
        "    page_bg_img = \"\"\"\n",
        "    <style>\n",
        "    [data-testid=\"stAppViewContainer\"] {\n",
        "        background-image: url(\"https://your-background-image-url.com\");\n",
        "        background-size: cover;\n",
        "    }\n",
        "    h1, h3 {\n",
        "        text-align: center;\n",
        "        color: white;\n",
        "    }\n",
        "    </style>\n",
        "    \"\"\"\n",
        "    st.markdown(page_bg_img, unsafe_allow_html=True)\n",
        "\n",
        "    # 🎯 Load Hugging Face Models | 加載 Hugging Face 模型\n",
        "    image_to_text_model = pipeline(\"image-to-text\", model=\"Salesforce/blip-image-captioning-base\")\n",
        "    story_generator = pipeline(\"text-generation\", model=\"facebook/opt-350m\", device=-1)\n",
        "\n",
        "    # Image to Text (Generate Caption) | 圖片 → 文字（生成描述）\n",
        "    def img2text(image_path):\n",
        "        text = image_to_text_model(image_path)[0][\"generated_text\"]\n",
        "        return text\n",
        "\n",
        "    # Text to Story (Generate a Complete Story) | 文字 → 故事（生成完整故事）\n",
        "    def text2story(text):\n",
        "        prompt = f\"Write a fun and magical children's story based on this idea: {text}.\\n\\nOnce upon a time...\"\n",
        "        story = story_generator(prompt, max_length=300, do_sample=True, temperature=0.8, top_p=0.9, repetition_penalty=1.2)[0]['generated_text']\n",
        "        return story\n",
        "\n",
        "    #  Story to Speech (TTS) | 故事 → 語音（TTS）\n",
        "    def text2audio_gtts(story_text, filename=\"story.mp3\"):\n",
        "        # Avoid filename conflicts | 避免文件冲突\n",
        "        if os.path.exists(filename):\n",
        "            os.remove(filename)\n",
        "        # Limit text length (to prevent gTTS crashes)| 限制 TTS 文本長度（避免 gTTS 崩潰）\n",
        "        max_chars = 500  # gTTS 可能不支持過長文本\n",
        "        story_text = story_text[:max_chars]\n",
        "\n",
        "        # Generate Speech | 生成语音\n",
        "        tts = gTTS(text=story_text, lang=\"en\")\n",
        "        tts.save(filename)\n",
        "        return filename\n",
        "\n",
        "    # Streamlit Web UI\n",
        "    st.header(\"📖 AI Storyteller: Turn Your Image into a Story with Audio\")\n",
        "\n",
        "    uploaded_file = st.file_uploader(\"Upload image below\", type=[\"jpg\", \"png\"])\n",
        "\n",
        "    if uploaded_file:\n",
        "        # Save image locally | 保存圖片到本地\n",
        "        image_path = \"uploaded_image.jpg\"\n",
        "        with open(image_path, \"wb\") as f:\n",
        "            f.write(uploaded_file.getbuffer())\n",
        "\n",
        "        #  Load and Display Image | 讀取並顯示圖片\n",
        "        image = Image.open(image_path)\n",
        "        st.image(image, caption=\"Uploaded Image\", use_container_width=True)\n",
        "\n",
        "        # Generate Image Caption | 生成圖片描述\n",
        "        st.text(\"🔍 Generating image caption...\")\n",
        "        caption = img2text(image_path)\n",
        "        st.write(\"**Image Description:**\", caption)\n",
        "\n",
        "        #  Generate Story | 生成故事\n",
        "        st.text(\"📝 Generating story...\")\n",
        "        story = text2story(caption)\n",
        "        st.write(\"**Generated Story:**\")\n",
        "        st.write(story)\n",
        "\n",
        "        # Generate Audio | 生成語音\n",
        "        st.text(\"🔊 Generating audio...\")\n",
        "        audio_file = text2audio_gtts(story)\n",
        "\n",
        "        # Play Audio | 播放音頻\n",
        "        st.audio(audio_file, format=\"audio/mp3\")\n",
        "\n",
        "        # Download Audio | 下載按钮\n",
        "        with open(audio_file, \"rb\") as file:\n",
        "            st.download_button(\"📥 Download Audio\", file, file_name=\"story.mp3\")\n",
        "\n",
        "# Add a Python standard entry check so that the program starts with main() | 加入 Python 標準入口檢查，讓程式從 main() 開始執行\n",
        "if __name__ == \"__main__\":\n",
        "    main()"
      ],
      "metadata": {
        "id": "IdvJB1rx9vv7"
      },
      "execution_count": null,
      "outputs": []
    },
    {
      "cell_type": "markdown",
      "source": [
        "#requirements.txt"
      ],
      "metadata": {
        "id": "rCL0LofQKiMf"
      }
    },
    {
      "cell_type": "code",
      "source": [
        "streamlit\n",
        "transformers==4.36.2\n",
        "torch\n",
        "Pillow\n",
        "gtts"
      ],
      "metadata": {
        "id": "C6VRetKV96tv"
      },
      "execution_count": null,
      "outputs": []
    }
  ]
}